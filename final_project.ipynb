{
 "cells": [
  {
   "cell_type": "markdown",
   "metadata": {},
   "source": [
    "# Enron Dataset Analysis\n",
    "## Udacity P5 Final Project \n",
    "\n",
    "### Jianru Shi\n",
    "\n",
    "\n",
    "\n"
   ]
  },
  {
   "cell_type": "code",
   "execution_count": 1,
   "metadata": {
    "collapsed": false
   },
   "outputs": [
    {
     "name": "stderr",
     "output_type": "stream",
     "text": [
      "/Users/ruru/anaconda/envs/myenv/lib/python2.7/site-packages/sklearn/cross_validation.py:44: DeprecationWarning: This module was deprecated in version 0.18 in favor of the model_selection module into which all the refactored classes and functions are moved. Also note that the interface of the new CV iterators are different from that of this module. This module will be removed in 0.20.\n",
      "  \"This module will be removed in 0.20.\", DeprecationWarning)\n",
      "/Users/ruru/anaconda/envs/myenv/lib/python2.7/site-packages/sklearn/grid_search.py:43: DeprecationWarning: This module was deprecated in version 0.18 in favor of the model_selection module into which all the refactored classes and functions are moved. This module will be removed in 0.20.\n",
      "  DeprecationWarning)\n"
     ]
    }
   ],
   "source": [
    "#!/usr/bin/python\n",
    "\n",
    "import sys\n",
    "import pickle\n",
    "sys.path.append(\"../tools/\")\n",
    "from sklearn import preprocessing\n",
    "from scipy.stats.mstats import normaltest\n",
    "from feature_format import featureFormat, targetFeatureSplit\n",
    "from tester import dump_classifier_and_data\n",
    "from sklearn.pipeline import Pipeline\n",
    "import pandas as pd \n",
    "import numpy as np \n",
    "import matplotlib.pyplot as plt\n",
    "%matplotlib inline\n",
    "from tester import *\n",
    "from select_models import *"
   ]
  },
  {
   "cell_type": "code",
   "execution_count": 2,
   "metadata": {
    "collapsed": false
   },
   "outputs": [],
   "source": [
    "### Task 1: Select what features you'll use.\n",
    "### features_list is a list of strings, each of which is a feature name.\n",
    "### The first feature must be \"poi\".\n",
    "features_list = ['poi','salary', 'deferral_payments',\\\n",
    "                 'total_payments', 'loan_advances', 'bonus',\\\n",
    "                 'restricted_stock_deferred', 'deferred_income',\\\n",
    "                 'total_stock_value', 'expenses', 'exercised_stock_options',\\\n",
    "                 'other', 'long_term_incentive', 'restricted_stock', 'director_fees',\\\n",
    "                'to_messages', 'from_poi_to_this_person',\\\n",
    "                 'from_messages', 'from_this_person_to_poi', 'shared_receipt_with_poi'] # You will need to use more features\n",
    "\n",
    "### Load the dictionary containing the dataset\n",
    "with open(\"final_project_dataset.pkl\", \"r\") as data_file:\n",
    "    data_dict = pickle.load(data_file)\n",
    "    \n"
   ]
  },
  {
   "cell_type": "code",
   "execution_count": 3,
   "metadata": {
    "collapsed": false
   },
   "outputs": [
    {
     "name": "stdout",
     "output_type": "stream",
     "text": [
      "The number of observations: 146 \n",
      "The number of features: 20\n"
     ]
    }
   ],
   "source": [
    "print 'The number of observations:',len(data_dict), '\\n' \\\n",
    "'The number of features:',  len(features_list)"
   ]
  },
  {
   "cell_type": "code",
   "execution_count": 4,
   "metadata": {
    "collapsed": false
   },
   "outputs": [],
   "source": [
    "# convert the dictionary to pandas dataframe for data wrangling and cleaning\n",
    "\n",
    "data_df=pd.DataFrame.from_dict(data_dict,orient='index', dtype='float')\n",
    "data_df[['poi']]=data_df[['poi']].astype('bool')\n",
    "data_df=data_df.replace('NaN', np.nan) \n"
   ]
  },
  {
   "cell_type": "code",
   "execution_count": 5,
   "metadata": {
    "collapsed": false
   },
   "outputs": [
    {
     "data": {
      "text/plain": [
       "salary                        51\n",
       "to_messages                   60\n",
       "deferral_payments            107\n",
       "total_payments                21\n",
       "exercised_stock_options       44\n",
       "bonus                         64\n",
       "restricted_stock              36\n",
       "shared_receipt_with_poi       60\n",
       "restricted_stock_deferred    128\n",
       "total_stock_value             20\n",
       "expenses                      51\n",
       "loan_advances                142\n",
       "from_messages                 60\n",
       "other                         53\n",
       "from_this_person_to_poi       60\n",
       "poi                            0\n",
       "director_fees                129\n",
       "deferred_income               97\n",
       "long_term_incentive           80\n",
       "email_address                 35\n",
       "from_poi_to_this_person       60\n",
       "dtype: int64"
      ]
     },
     "execution_count": 5,
     "metadata": {},
     "output_type": "execute_result"
    }
   ],
   "source": [
    "# missing values\n",
    "data_df.isnull().sum()"
   ]
  },
  {
   "cell_type": "code",
   "execution_count": 6,
   "metadata": {
    "collapsed": false
   },
   "outputs": [
    {
     "data": {
      "text/plain": [
       "False    128\n",
       "True      18\n",
       "Name: poi, dtype: int64"
      ]
     },
     "execution_count": 6,
     "metadata": {},
     "output_type": "execute_result"
    }
   ],
   "source": [
    "# count labels frequencty\n",
    "data_df['poi'].value_counts()"
   ]
  },
  {
   "cell_type": "code",
   "execution_count": 7,
   "metadata": {
    "collapsed": false
   },
   "outputs": [
    {
     "data": {
      "text/plain": [
       "<matplotlib.axes._subplots.AxesSubplot at 0x10b108a10>"
      ]
     },
     "execution_count": 7,
     "metadata": {},
     "output_type": "execute_result"
    },
    {
     "data": {
      "image/png": "[encoded data removed]",
      "text/plain": [
       "<matplotlib.figure.Figure at 0x105a85490>"
      ]
     },
     "metadata": {},
     "output_type": "display_data"
    }
   ],
   "source": [
    "### Task 2: Remove outliers\n",
    "\n",
    "## Visualize outliers in box-plot\n",
    "data_df[['salary', 'deferral_payments','total_payments',\\\n",
    "         'bonus','total_stock_value', 'exercised_stock_options',]].plot.box()\n"
   ]
  },
  {
   "cell_type": "code",
   "execution_count": 8,
   "metadata": {
    "collapsed": false
   },
   "outputs": [
    {
     "data": {
      "text/html": [
       "<div>\n",
       "<style>\n",
       "    .dataframe thead tr:only-child th {\n",
       "        text-align: right;\n",
       "    }\n",
       "\n",
       "    .dataframe thead th {\n",
       "        text-align: left;\n",
       "    }\n",
       "\n",
       "    .dataframe tbody tr th {\n",
       "        vertical-align: top;\n",
       "    }\n",
       "</style>\n",
       "<table border=\"1\" class=\"dataframe\">\n",
       "  <thead>\n",
       "    <tr style=\"text-align: right;\">\n",
       "      <th></th>\n",
       "      <th>total_stock_value</th>\n",
       "      <th>total_payments</th>\n",
       "    </tr>\n",
       "  </thead>\n",
       "  <tbody>\n",
       "    <tr>\n",
       "      <th>count</th>\n",
       "      <td>1.260000e+02</td>\n",
       "      <td>1.250000e+02</td>\n",
       "    </tr>\n",
       "    <tr>\n",
       "      <th>mean</th>\n",
       "      <td>6.773957e+06</td>\n",
       "      <td>5.081526e+06</td>\n",
       "    </tr>\n",
       "    <tr>\n",
       "      <th>std</th>\n",
       "      <td>3.895777e+07</td>\n",
       "      <td>2.906172e+07</td>\n",
       "    </tr>\n",
       "    <tr>\n",
       "      <th>min</th>\n",
       "      <td>-4.409300e+04</td>\n",
       "      <td>1.480000e+02</td>\n",
       "    </tr>\n",
       "    <tr>\n",
       "      <th>25%</th>\n",
       "      <td>4.945102e+05</td>\n",
       "      <td>3.944750e+05</td>\n",
       "    </tr>\n",
       "    <tr>\n",
       "      <th>50%</th>\n",
       "      <td>1.102872e+06</td>\n",
       "      <td>1.101393e+06</td>\n",
       "    </tr>\n",
       "    <tr>\n",
       "      <th>75%</th>\n",
       "      <td>2.949847e+06</td>\n",
       "      <td>2.093263e+06</td>\n",
       "    </tr>\n",
       "    <tr>\n",
       "      <th>max</th>\n",
       "      <td>4.345095e+08</td>\n",
       "      <td>3.098866e+08</td>\n",
       "    </tr>\n",
       "  </tbody>\n",
       "</table>\n",
       "</div>"
      ],
      "text/plain": [
       "       total_stock_value  total_payments\n",
       "count       1.260000e+02    1.250000e+02\n",
       "mean        6.773957e+06    5.081526e+06\n",
       "std         3.895777e+07    2.906172e+07\n",
       "min        -4.409300e+04    1.480000e+02\n",
       "25%         4.945102e+05    3.944750e+05\n",
       "50%         1.102872e+06    1.101393e+06\n",
       "75%         2.949847e+06    2.093263e+06\n",
       "max         4.345095e+08    3.098866e+08"
      ]
     },
     "execution_count": 8,
     "metadata": {},
     "output_type": "execute_result"
    }
   ],
   "source": [
    "## identify observations that contains outlier \n",
    "\n",
    "data_df[['total_stock_value', 'total_payments']].describe()"
   ]
  },
  {
   "cell_type": "code",
   "execution_count": 9,
   "metadata": {
    "collapsed": false
   },
   "outputs": [
    {
     "data": {
      "text/html": [
       "<div>\n",
       "<style>\n",
       "    .dataframe thead tr:only-child th {\n",
       "        text-align: right;\n",
       "    }\n",
       "\n",
       "    .dataframe thead th {\n",
       "        text-align: left;\n",
       "    }\n",
       "\n",
       "    .dataframe tbody tr th {\n",
       "        vertical-align: top;\n",
       "    }\n",
       "</style>\n",
       "<table border=\"1\" class=\"dataframe\">\n",
       "  <thead>\n",
       "    <tr style=\"text-align: right;\">\n",
       "      <th></th>\n",
       "      <th>salary</th>\n",
       "      <th>to_messages</th>\n",
       "      <th>deferral_payments</th>\n",
       "      <th>total_payments</th>\n",
       "      <th>exercised_stock_options</th>\n",
       "      <th>bonus</th>\n",
       "      <th>restricted_stock</th>\n",
       "      <th>shared_receipt_with_poi</th>\n",
       "      <th>restricted_stock_deferred</th>\n",
       "      <th>total_stock_value</th>\n",
       "      <th>...</th>\n",
       "      <th>loan_advances</th>\n",
       "      <th>from_messages</th>\n",
       "      <th>other</th>\n",
       "      <th>from_this_person_to_poi</th>\n",
       "      <th>poi</th>\n",
       "      <th>director_fees</th>\n",
       "      <th>deferred_income</th>\n",
       "      <th>long_term_incentive</th>\n",
       "      <th>email_address</th>\n",
       "      <th>from_poi_to_this_person</th>\n",
       "    </tr>\n",
       "  </thead>\n",
       "  <tbody>\n",
       "    <tr>\n",
       "      <th>TOTAL</th>\n",
       "      <td>26704229.0</td>\n",
       "      <td>NaN</td>\n",
       "      <td>32083396.0</td>\n",
       "      <td>309886585.0</td>\n",
       "      <td>311764000.0</td>\n",
       "      <td>97343619.0</td>\n",
       "      <td>130322299.0</td>\n",
       "      <td>NaN</td>\n",
       "      <td>-7576788.0</td>\n",
       "      <td>434509511.0</td>\n",
       "      <td>...</td>\n",
       "      <td>83925000.0</td>\n",
       "      <td>NaN</td>\n",
       "      <td>42667589.0</td>\n",
       "      <td>NaN</td>\n",
       "      <td>False</td>\n",
       "      <td>1398517.0</td>\n",
       "      <td>-27992891.0</td>\n",
       "      <td>48521928.0</td>\n",
       "      <td>NaN</td>\n",
       "      <td>NaN</td>\n",
       "    </tr>\n",
       "  </tbody>\n",
       "</table>\n",
       "<p>1 rows × 21 columns</p>\n",
       "</div>"
      ],
      "text/plain": [
       "           salary  to_messages  deferral_payments  total_payments  \\\n",
       "TOTAL  26704229.0          NaN         32083396.0     309886585.0   \n",
       "\n",
       "       exercised_stock_options       bonus  restricted_stock  \\\n",
       "TOTAL              311764000.0  97343619.0       130322299.0   \n",
       "\n",
       "       shared_receipt_with_poi  restricted_stock_deferred  total_stock_value  \\\n",
       "TOTAL                      NaN                 -7576788.0        434509511.0   \n",
       "\n",
       "                ...            loan_advances  from_messages       other  \\\n",
       "TOTAL           ...               83925000.0            NaN  42667589.0   \n",
       "\n",
       "       from_this_person_to_poi    poi  director_fees  deferred_income  \\\n",
       "TOTAL                      NaN  False      1398517.0      -27992891.0   \n",
       "\n",
       "       long_term_incentive  email_address from_poi_to_this_person  \n",
       "TOTAL           48521928.0            NaN                     NaN  \n",
       "\n",
       "[1 rows x 21 columns]"
      ]
     },
     "execution_count": 9,
     "metadata": {},
     "output_type": "execute_result"
    }
   ],
   "source": [
    "data_df[data_df['total_stock_value']>200000000]"
   ]
  },
  {
   "cell_type": "code",
   "execution_count": 10,
   "metadata": {
    "collapsed": false
   },
   "outputs": [],
   "source": [
    "# Remove the row with errors\n",
    "data_df.drop(['TOTAL'], inplace=True)"
   ]
  },
  {
   "cell_type": "code",
   "execution_count": 11,
   "metadata": {
    "collapsed": false
   },
   "outputs": [
    {
     "data": {
      "text/html": [
       "<div>\n",
       "<style>\n",
       "    .dataframe thead tr:only-child th {\n",
       "        text-align: right;\n",
       "    }\n",
       "\n",
       "    .dataframe thead th {\n",
       "        text-align: left;\n",
       "    }\n",
       "\n",
       "    .dataframe tbody tr th {\n",
       "        vertical-align: top;\n",
       "    }\n",
       "</style>\n",
       "<table border=\"1\" class=\"dataframe\">\n",
       "  <thead>\n",
       "    <tr style=\"text-align: right;\">\n",
       "      <th></th>\n",
       "      <th>salary</th>\n",
       "      <th>to_messages</th>\n",
       "      <th>deferral_payments</th>\n",
       "      <th>total_payments</th>\n",
       "      <th>exercised_stock_options</th>\n",
       "      <th>bonus</th>\n",
       "      <th>restricted_stock</th>\n",
       "      <th>shared_receipt_with_poi</th>\n",
       "      <th>restricted_stock_deferred</th>\n",
       "      <th>total_stock_value</th>\n",
       "      <th>...</th>\n",
       "      <th>loan_advances</th>\n",
       "      <th>from_messages</th>\n",
       "      <th>other</th>\n",
       "      <th>from_this_person_to_poi</th>\n",
       "      <th>poi</th>\n",
       "      <th>director_fees</th>\n",
       "      <th>deferred_income</th>\n",
       "      <th>long_term_incentive</th>\n",
       "      <th>email_address</th>\n",
       "      <th>from_poi_to_this_person</th>\n",
       "    </tr>\n",
       "  </thead>\n",
       "  <tbody>\n",
       "    <tr>\n",
       "      <th>BELFER ROBERT</th>\n",
       "      <td>NaN</td>\n",
       "      <td>NaN</td>\n",
       "      <td>-102500.0</td>\n",
       "      <td>102500.0</td>\n",
       "      <td>3285.0</td>\n",
       "      <td>NaN</td>\n",
       "      <td>NaN</td>\n",
       "      <td>NaN</td>\n",
       "      <td>44093.0</td>\n",
       "      <td>-44093.0</td>\n",
       "      <td>...</td>\n",
       "      <td>NaN</td>\n",
       "      <td>NaN</td>\n",
       "      <td>NaN</td>\n",
       "      <td>NaN</td>\n",
       "      <td>False</td>\n",
       "      <td>3285.0</td>\n",
       "      <td>NaN</td>\n",
       "      <td>NaN</td>\n",
       "      <td>NaN</td>\n",
       "      <td>NaN</td>\n",
       "    </tr>\n",
       "  </tbody>\n",
       "</table>\n",
       "<p>1 rows × 21 columns</p>\n",
       "</div>"
      ],
      "text/plain": [
       "               salary  to_messages  deferral_payments  total_payments  \\\n",
       "BELFER ROBERT     NaN          NaN          -102500.0        102500.0   \n",
       "\n",
       "               exercised_stock_options  bonus  restricted_stock  \\\n",
       "BELFER ROBERT                   3285.0    NaN               NaN   \n",
       "\n",
       "               shared_receipt_with_poi  restricted_stock_deferred  \\\n",
       "BELFER ROBERT                      NaN                    44093.0   \n",
       "\n",
       "               total_stock_value           ...            loan_advances  \\\n",
       "BELFER ROBERT           -44093.0           ...                      NaN   \n",
       "\n",
       "               from_messages  other  from_this_person_to_poi    poi  \\\n",
       "BELFER ROBERT            NaN    NaN                      NaN  False   \n",
       "\n",
       "               director_fees  deferred_income  long_term_incentive  \\\n",
       "BELFER ROBERT         3285.0              NaN                  NaN   \n",
       "\n",
       "               email_address from_poi_to_this_person  \n",
       "BELFER ROBERT            NaN                     NaN  \n",
       "\n",
       "[1 rows x 21 columns]"
      ]
     },
     "execution_count": 11,
     "metadata": {},
     "output_type": "execute_result"
    }
   ],
   "source": [
    "# Check the abnormal observations has negative total stock value\n",
    "data_df[data_df['total_stock_value']<0]"
   ]
  },
  {
   "cell_type": "code",
   "execution_count": 12,
   "metadata": {
    "collapsed": false,
    "scrolled": true
   },
   "outputs": [
    {
     "data": {
      "text/plain": [
       "<matplotlib.axes._subplots.AxesSubplot at 0x10b3cf350>"
      ]
     },
     "execution_count": 12,
     "metadata": {},
     "output_type": "execute_result"
    },
    {
     "data": {
      "image/png": "[encoded data removed]",
      "text/plain": [
       "<matplotlib.figure.Figure at 0x105a85450>"
      ]
     },
     "metadata": {},
     "output_type": "display_data"
    }
   ],
   "source": [
    "# plot the cleaned data \n",
    "data_df[['salary', 'deferral_payments','total_payments',\\\n",
    "         'bonus','total_stock_value', 'exercised_stock_options',\\\n",
    "        'long_term_incentive', 'restricted_stock', 'director_fees',]].plot.box()"
   ]
  },
  {
   "cell_type": "code",
   "execution_count": 13,
   "metadata": {
    "collapsed": false
   },
   "outputs": [
    {
     "data": {
      "text/html": [
       "<div>\n",
       "<style>\n",
       "    .dataframe thead tr:only-child th {\n",
       "        text-align: right;\n",
       "    }\n",
       "\n",
       "    .dataframe thead th {\n",
       "        text-align: left;\n",
       "    }\n",
       "\n",
       "    .dataframe tbody tr th {\n",
       "        vertical-align: top;\n",
       "    }\n",
       "</style>\n",
       "<table border=\"1\" class=\"dataframe\">\n",
       "  <thead>\n",
       "    <tr style=\"text-align: right;\">\n",
       "      <th></th>\n",
       "      <th>salary</th>\n",
       "      <th>to_messages</th>\n",
       "      <th>deferral_payments</th>\n",
       "      <th>total_payments</th>\n",
       "      <th>exercised_stock_options</th>\n",
       "      <th>bonus</th>\n",
       "      <th>restricted_stock</th>\n",
       "      <th>shared_receipt_with_poi</th>\n",
       "      <th>restricted_stock_deferred</th>\n",
       "      <th>total_stock_value</th>\n",
       "      <th>...</th>\n",
       "      <th>loan_advances</th>\n",
       "      <th>from_messages</th>\n",
       "      <th>other</th>\n",
       "      <th>from_this_person_to_poi</th>\n",
       "      <th>poi</th>\n",
       "      <th>director_fees</th>\n",
       "      <th>deferred_income</th>\n",
       "      <th>long_term_incentive</th>\n",
       "      <th>email_address</th>\n",
       "      <th>from_poi_to_this_person</th>\n",
       "    </tr>\n",
       "  </thead>\n",
       "  <tbody>\n",
       "    <tr>\n",
       "      <th>LAY KENNETH L</th>\n",
       "      <td>1072321.0</td>\n",
       "      <td>4273.0</td>\n",
       "      <td>202911.0</td>\n",
       "      <td>103559793.0</td>\n",
       "      <td>34348384.0</td>\n",
       "      <td>7000000.0</td>\n",
       "      <td>14761694.0</td>\n",
       "      <td>2411.0</td>\n",
       "      <td>NaN</td>\n",
       "      <td>49110078.0</td>\n",
       "      <td>...</td>\n",
       "      <td>81525000.0</td>\n",
       "      <td>36.0</td>\n",
       "      <td>10359729.0</td>\n",
       "      <td>16.0</td>\n",
       "      <td>True</td>\n",
       "      <td>NaN</td>\n",
       "      <td>-300000.0</td>\n",
       "      <td>3600000.0</td>\n",
       "      <td>kenneth.lay@enron.com</td>\n",
       "      <td>123.0</td>\n",
       "    </tr>\n",
       "  </tbody>\n",
       "</table>\n",
       "<p>1 rows × 21 columns</p>\n",
       "</div>"
      ],
      "text/plain": [
       "                  salary  to_messages  deferral_payments  total_payments  \\\n",
       "LAY KENNETH L  1072321.0       4273.0           202911.0     103559793.0   \n",
       "\n",
       "               exercised_stock_options      bonus  restricted_stock  \\\n",
       "LAY KENNETH L               34348384.0  7000000.0        14761694.0   \n",
       "\n",
       "               shared_receipt_with_poi  restricted_stock_deferred  \\\n",
       "LAY KENNETH L                   2411.0                        NaN   \n",
       "\n",
       "               total_stock_value           ...            loan_advances  \\\n",
       "LAY KENNETH L         49110078.0           ...               81525000.0   \n",
       "\n",
       "               from_messages       other  from_this_person_to_poi   poi  \\\n",
       "LAY KENNETH L           36.0  10359729.0                     16.0  True   \n",
       "\n",
       "               director_fees  deferred_income  long_term_incentive  \\\n",
       "LAY KENNETH L            NaN        -300000.0            3600000.0   \n",
       "\n",
       "                       email_address from_poi_to_this_person  \n",
       "LAY KENNETH L  kenneth.lay@enron.com                   123.0  \n",
       "\n",
       "[1 rows x 21 columns]"
      ]
     },
     "execution_count": 13,
     "metadata": {},
     "output_type": "execute_result"
    }
   ],
   "source": [
    "# Check the outlier in total payments \n",
    "# keep the oberservation since Lay_Kennethl is a person name\n",
    "data_df[data_df['total_payments']>100000000]"
   ]
  },
  {
   "cell_type": "code",
   "execution_count": 14,
   "metadata": {
    "collapsed": false
   },
   "outputs": [],
   "source": [
    "### Task 3: Create new feature(s)\n",
    "\n",
    "data_df['to_poi_fraction']=data_df['from_this_person_to_poi']/data_df['from_messages']\n",
    "data_df['from_poi_fraction']=data_df['from_poi_to_this_person']/data_df['to_messages']\n",
    "\n",
    "\n",
    "### filled missing values with 0 \n",
    "data_df=data_df.fillna(0)"
   ]
  },
  {
   "cell_type": "code",
   "execution_count": 35,
   "metadata": {
    "collapsed": false
   },
   "outputs": [],
   "source": [
    "### update the features_list by adding two new features\n",
    "features_list = ['poi','salary', 'deferral_payments',\n",
    "                 'total_payments', 'loan_advances', 'bonus',\n",
    "                 'restricted_stock_deferred', 'deferred_income',\n",
    "                 'total_stock_value', 'expenses', 'exercised_stock_options',\n",
    "                 'other', 'long_term_incentive', 'restricted_stock', 'director_fees',\n",
    "                'to_messages', 'from_poi_to_this_person',\n",
    "                 'from_messages', 'from_this_person_to_poi', 'shared_receipt_with_poi',\n",
    "                'to_poi_fraction','from_poi_fraction'] "
   ]
  },
  {
   "cell_type": "code",
   "execution_count": 16,
   "metadata": {
    "collapsed": false
   },
   "outputs": [],
   "source": [
    "### Store to my_dataset for easy export below.\n",
    "data_dict=data_df.to_dict(orient='index')\n",
    "my_dataset = data_dict\n",
    "\n",
    "### Extract features and labels from dataset for local testing\n",
    "data = featureFormat(my_dataset, features_list, sort_keys = True)\n",
    "labels, features = targetFeatureSplit(data)\n",
    "\n",
    "\n",
    "\n",
    "from sklearn.cross_validation import train_test_split\n",
    "features_train, features_test, labels_train, labels_test = \\\n",
    "    train_test_split(features, labels, test_size=0.3, random_state=42)"
   ]
  },
  {
   "cell_type": "code",
   "execution_count": 17,
   "metadata": {
    "collapsed": false
   },
   "outputs": [],
   "source": [
    "### Task 4: Try a varity of classifiers\n",
    "### Please name your classifier clf for easy export below.\n",
    "### Note that if you want to do PCA or other multi-stage operations,\n",
    "### you'll need to use Pipelines. For more info:\n",
    "### http://scikit-learn.org/stable/modules/pipeline.html\n",
    "\n",
    "# Provided to give you a starting point. Try a variety of classifiers."
   ]
  },
  {
   "cell_type": "code",
   "execution_count": 18,
   "metadata": {
    "collapsed": false
   },
   "outputs": [
    {
     "data": {
      "text/plain": [
       "<matplotlib.axes._subplots.AxesSubplot at 0x1088454d0>"
      ]
     },
     "execution_count": 18,
     "metadata": {},
     "output_type": "execute_result"
    },
    {
     "data": {
      "image/png": "[encoded data removed]",
      "text/plain": [
       "<matplotlib.figure.Figure at 0x10885de90>"
      ]
     },
     "metadata": {},
     "output_type": "display_data"
    }
   ],
   "source": [
    "### Classifier_1 Gaussian Naive Bayes\n",
    "\n",
    "from sklearn.naive_bayes import GaussianNB\n",
    "from sklearn.feature_selection import SelectKBest\n",
    "from sklearn.feature_selection import f_classif\n",
    "\n",
    "\n",
    "evaluations=NB_selection(features_train, labels_train,features_test,labels_test)  \n",
    "evalu_df=pd.DataFrame.from_dict(evaluations, orient='index')\n",
    "evalu_df.plot()"
   ]
  },
  {
   "cell_type": "code",
   "execution_count": 18,
   "metadata": {
    "collapsed": false
   },
   "outputs": [
    {
     "name": "stderr",
     "output_type": "stream",
     "text": [
      "/Users/ruru/anaconda/envs/myenv/lib/python2.7/site-packages/sklearn/metrics/classification.py:1113: UndefinedMetricWarning: F-score is ill-defined and being set to 0.0 due to no predicted samples.\n",
      "  'precision', 'predicted', average, warn_for)\n"
     ]
    },
    {
     "name": "stdout",
     "output_type": "stream",
     "text": [
      "The f1 score from Naive Bayes model is: 0.316666666667\n"
     ]
    },
    {
     "data": {
      "text/html": [
       "<div>\n",
       "<style>\n",
       "    .dataframe thead tr:only-child th {\n",
       "        text-align: right;\n",
       "    }\n",
       "\n",
       "    .dataframe thead th {\n",
       "        text-align: left;\n",
       "    }\n",
       "\n",
       "    .dataframe tbody tr th {\n",
       "        vertical-align: top;\n",
       "    }\n",
       "</style>\n",
       "<table border=\"1\" class=\"dataframe\">\n",
       "  <thead>\n",
       "    <tr style=\"text-align: right;\">\n",
       "      <th></th>\n",
       "      <th>0</th>\n",
       "    </tr>\n",
       "  </thead>\n",
       "  <tbody>\n",
       "    <tr>\n",
       "      <th>selection__k</th>\n",
       "      <td>13</td>\n",
       "    </tr>\n",
       "  </tbody>\n",
       "</table>\n",
       "</div>"
      ],
      "text/plain": [
       "               0\n",
       "selection__k  13"
      ]
     },
     "execution_count": 18,
     "metadata": {},
     "output_type": "execute_result"
    }
   ],
   "source": [
    "from sklearn.model_selection import GridSearchCV\n",
    "clf=NB_pipeline()\n",
    "Params=NB_Params() \n",
    "grid_searcher = GridSearchCV(clf, param_grid=Params, cv=10, scoring='f1')\n",
    "#grid_searcher = GridSearchCV(Tree_clf, param_grid=Tree_Params, cv=10, scoring='recall')\n",
    "\n",
    "\n",
    "grid_searcher.fit(features_train, labels_train)\n",
    "print 'The f1 score from Naive Bayes model is:', grid_searcher.best_score_\n",
    "result_df=pd.DataFrame.from_dict(grid_searcher.cv_results_)\n",
    "pd.DataFrame.from_dict(grid_searcher.best_params_, orient='index') \n"
   ]
  },
  {
   "cell_type": "code",
   "execution_count": 19,
   "metadata": {
    "collapsed": false
   },
   "outputs": [],
   "source": [
    "### Final Naive Bayes Classifier\n",
    "NB_clf=Pipeline([\n",
    "    ('selection', SelectKBest(f_classif, k=13)),\n",
    "    ('classification', GaussianNB())\n",
    "])"
   ]
  },
  {
   "cell_type": "code",
   "execution_count": 21,
   "metadata": {
    "collapsed": false
   },
   "outputs": [
    {
     "name": "stdout",
     "output_type": "stream",
     "text": [
      "The f1 score from Decision Tree model is: 0.363333333333\n"
     ]
    },
    {
     "data": {
      "text/html": [
       "<div>\n",
       "<style>\n",
       "    .dataframe thead tr:only-child th {\n",
       "        text-align: right;\n",
       "    }\n",
       "\n",
       "    .dataframe thead th {\n",
       "        text-align: left;\n",
       "    }\n",
       "\n",
       "    .dataframe tbody tr th {\n",
       "        vertical-align: top;\n",
       "    }\n",
       "</style>\n",
       "<table border=\"1\" class=\"dataframe\">\n",
       "  <thead>\n",
       "    <tr style=\"text-align: right;\">\n",
       "      <th></th>\n",
       "      <th>0</th>\n",
       "    </tr>\n",
       "  </thead>\n",
       "  <tbody>\n",
       "    <tr>\n",
       "      <th>classification__max_features</th>\n",
       "      <td>log2</td>\n",
       "    </tr>\n",
       "    <tr>\n",
       "      <th>selection__k</th>\n",
       "      <td>7</td>\n",
       "    </tr>\n",
       "    <tr>\n",
       "      <th>classification__min_samples_split</th>\n",
       "      <td>4</td>\n",
       "    </tr>\n",
       "    <tr>\n",
       "      <th>classification__criterion</th>\n",
       "      <td>entropy</td>\n",
       "    </tr>\n",
       "  </tbody>\n",
       "</table>\n",
       "</div>"
      ],
      "text/plain": [
       "                                         0\n",
       "classification__max_features          log2\n",
       "selection__k                             7\n",
       "classification__min_samples_split        4\n",
       "classification__criterion          entropy"
      ]
     },
     "execution_count": 21,
     "metadata": {},
     "output_type": "execute_result"
    }
   ],
   "source": [
    "### Classifier_2 Decision Tree\n",
    "from sklearn import tree\n",
    "from sklearn.model_selection import GridSearchCV\n",
    "\n",
    "\n",
    "clf=Tree_pipeline()\n",
    "Params=Tree_Params() \n",
    "grid_searcher = GridSearchCV(clf, param_grid=Params, cv=10, scoring='f1')\n",
    "#grid_searcher = GridSearchCV(Tree_clf, param_grid=Tree_Params, cv=10, scoring='recall')\n",
    "\n",
    "\n",
    "grid_searcher.fit(features_train, labels_train)\n",
    "print 'The f1 score from Decision Tree model is:', grid_searcher.best_score_\n",
    "result_df=pd.DataFrame.from_dict(grid_searcher.cv_results_)\n",
    "pd.DataFrame.from_dict(grid_searcher.best_params_, orient='index') \n"
   ]
  },
  {
   "cell_type": "code",
   "execution_count": 22,
   "metadata": {
    "collapsed": false
   },
   "outputs": [],
   "source": [
    "### Final tree model\n",
    "Tree_clf = Pipeline([\n",
    "  ('selection', SelectKBest(f_classif, k=7)),\n",
    "  ('classification', tree.DecisionTreeClassifier(criterion='entropy', min_samples_split=4, random_state=42, max_features='log2'))\n",
    "])\n"
   ]
  },
  {
   "cell_type": "code",
   "execution_count": null,
   "metadata": {
    "collapsed": true
   },
   "outputs": [],
   "source": []
  },
  {
   "cell_type": "code",
   "execution_count": 23,
   "metadata": {
    "collapsed": false
   },
   "outputs": [
    {
     "name": "stdout",
     "output_type": "stream",
     "text": [
      "The f1 score for SVC classifier is: 0.411333333333\n"
     ]
    },
    {
     "data": {
      "text/html": [
       "<div>\n",
       "<style>\n",
       "    .dataframe thead tr:only-child th {\n",
       "        text-align: right;\n",
       "    }\n",
       "\n",
       "    .dataframe thead th {\n",
       "        text-align: left;\n",
       "    }\n",
       "\n",
       "    .dataframe tbody tr th {\n",
       "        vertical-align: top;\n",
       "    }\n",
       "</style>\n",
       "<table border=\"1\" class=\"dataframe\">\n",
       "  <thead>\n",
       "    <tr style=\"text-align: right;\">\n",
       "      <th></th>\n",
       "      <th>0</th>\n",
       "    </tr>\n",
       "  </thead>\n",
       "  <tbody>\n",
       "    <tr>\n",
       "      <th>classification__gamma</th>\n",
       "      <td>100</td>\n",
       "    </tr>\n",
       "    <tr>\n",
       "      <th>classification__kernel</th>\n",
       "      <td>poly</td>\n",
       "    </tr>\n",
       "    <tr>\n",
       "      <th>classification__C</th>\n",
       "      <td>10</td>\n",
       "    </tr>\n",
       "    <tr>\n",
       "      <th>selection__k</th>\n",
       "      <td>7</td>\n",
       "    </tr>\n",
       "  </tbody>\n",
       "</table>\n",
       "</div>"
      ],
      "text/plain": [
       "                           0\n",
       "classification__gamma    100\n",
       "classification__kernel  poly\n",
       "classification__C         10\n",
       "selection__k               7"
      ]
     },
     "execution_count": 23,
     "metadata": {},
     "output_type": "execute_result"
    }
   ],
   "source": [
    "### Classifier_3 SVC\n",
    "\n",
    "from sklearn.svm import SVC\n",
    "from sklearn import preprocessing\n",
    "\n",
    "\n",
    "clf=SVC_pipeline()\n",
    "Params=SVC_Params()\n",
    "grid_searcher = GridSearchCV(clf, param_grid=Params, cv=10, scoring='f1')\n",
    "#grid_searcher = GridSearchCV(Tree_clf, param_grid=Tree_Params, cv=10, scoring='recall')\n",
    "\n",
    "grid_searcher.fit(features_train, labels_train)\n",
    "print 'The f1 score for SVC classifier is:', grid_searcher.best_score_\n",
    "\n",
    "result_df=pd.DataFrame.from_dict(grid_searcher.cv_results_)\n",
    "pd.DataFrame.from_dict(grid_searcher.best_params_, orient='index') \n"
   ]
  },
  {
   "cell_type": "code",
   "execution_count": 24,
   "metadata": {
    "collapsed": false
   },
   "outputs": [],
   "source": [
    "### Final SVC model\n",
    "\n",
    "SVC_clf=Pipeline([\n",
    "    ('scaler', preprocessing.MinMaxScaler()),\n",
    "    ('selection', SelectKBest(f_classif, k=7)),\n",
    "    ('classification', SVC(kernel='poly', gamma=100, C=10, random_state=42) )\n",
    "])\n"
   ]
  },
  {
   "cell_type": "code",
   "execution_count": 20,
   "metadata": {
    "collapsed": true
   },
   "outputs": [],
   "source": [
    "### Task 5: Tune your classifier to achieve better than .3 precision and recall \n",
    "### using our testing script. Check the tester.py script in the final project\n",
    "### folder for details on the evaluation method, especially the test_classifier\n",
    "### function. Because of the small size of the dataset, the script uses\n",
    "### stratified shuffle split cross validation. For more info: \n",
    "### http://scikit-learn.org/stable/modules/generated/sklearn.cross_validation.StratifiedShuffleSplit.html\n"
   ]
  },
  {
   "cell_type": "code",
   "execution_count": 25,
   "metadata": {
    "collapsed": false
   },
   "outputs": [
    {
     "data": {
      "text/html": [
       "<div>\n",
       "<style>\n",
       "    .dataframe thead tr:only-child th {\n",
       "        text-align: right;\n",
       "    }\n",
       "\n",
       "    .dataframe thead th {\n",
       "        text-align: left;\n",
       "    }\n",
       "\n",
       "    .dataframe tbody tr th {\n",
       "        vertical-align: top;\n",
       "    }\n",
       "</style>\n",
       "<table border=\"1\" class=\"dataframe\">\n",
       "  <thead>\n",
       "    <tr style=\"text-align: right;\">\n",
       "      <th></th>\n",
       "      <th>f1</th>\n",
       "      <th>Recall</th>\n",
       "      <th>f2</th>\n",
       "      <th>Precision</th>\n",
       "      <th>Accuracy</th>\n",
       "    </tr>\n",
       "  </thead>\n",
       "  <tbody>\n",
       "    <tr>\n",
       "      <th>Decision Tree</th>\n",
       "      <td>0.4</td>\n",
       "      <td>0.4</td>\n",
       "      <td>0.4</td>\n",
       "      <td>0.4</td>\n",
       "      <td>0.863636</td>\n",
       "    </tr>\n",
       "    <tr>\n",
       "      <th>Gaussian Naive Bayes</th>\n",
       "      <td>0.4</td>\n",
       "      <td>0.4</td>\n",
       "      <td>0.4</td>\n",
       "      <td>0.4</td>\n",
       "      <td>0.863636</td>\n",
       "    </tr>\n",
       "    <tr>\n",
       "      <th>SVC</th>\n",
       "      <td>0.4</td>\n",
       "      <td>0.6</td>\n",
       "      <td>0.5</td>\n",
       "      <td>0.3</td>\n",
       "      <td>0.795455</td>\n",
       "    </tr>\n",
       "  </tbody>\n",
       "</table>\n",
       "</div>"
      ],
      "text/plain": [
       "                       f1  Recall   f2  Precision  Accuracy\n",
       "Decision Tree         0.4     0.4  0.4        0.4  0.863636\n",
       "Gaussian Naive Bayes  0.4     0.4  0.4        0.4  0.863636\n",
       "SVC                   0.4     0.6  0.5        0.3  0.795455"
      ]
     },
     "execution_count": 25,
     "metadata": {},
     "output_type": "execute_result"
    }
   ],
   "source": [
    "### Compare three models\n",
    "\n",
    "\n",
    "NB_clf.fit(features_train,labels_train)\n",
    "Tree_clf.fit(features_train,labels_train)\n",
    "SVC_clf.fit(features_train,labels_train)\n",
    "\n",
    "\n",
    "classifers_list=[NB_clf,Tree_clf,SVC_clf]\n",
    "classifer_name_list=['Gaussian Naive Bayes','Decision Tree', 'SVC']\n",
    "\n",
    "clf_scores={}\n",
    "for ii in range(0, len(classifers_list)):\n",
    "    classifier=classifers_list[ii]\n",
    "    classifer_name=classifer_name_list[ii]\n",
    "    pred=classifier.predict(features_test)\n",
    "    scores=accuracy_check(pred, labels_test)\n",
    "    scores_dict={'Accuracy': scores[0], 'Precision': scores[1],\\\n",
    "     'Recall':scores[2], 'f1':scores[3], 'f2':scores[4]}\n",
    "    clf_scores[classifer_name]=scores_dict\n",
    "\n",
    "pd.DataFrame.from_dict(clf_scores, orient='index')\n",
    "\n",
    "#clf_scores"
   ]
  },
  {
   "cell_type": "code",
   "execution_count": 62,
   "metadata": {
    "collapsed": false
   },
   "outputs": [],
   "source": [
    "\n",
    "### Task 6: Dump your classifier, dataset, and features_list so anyone can\n",
    "### check your results. You do not need to change anything below, but make sure\n",
    "### that the version of poi_id.py that you submit can be run on its own and\n",
    "### generates the necessary .pkl files for validating your results.\n",
    "\n",
    "\n",
    "clf=Tree_clf\n",
    "\n",
    "full_features_list = ['poi','salary', 'deferral_payments',\n",
    "                 'total_payments', 'loan_advances', 'bonus',\n",
    "                 'restricted_stock_deferred', 'deferred_income',\n",
    "                 'total_stock_value', 'expenses', 'exercised_stock_options',\n",
    "                 'other', 'long_term_incentive', 'restricted_stock', 'director_fees',\n",
    "                'to_messages', 'from_poi_to_this_person',\n",
    "                 'from_messages', 'from_this_person_to_poi', 'shared_receipt_with_poi',\n",
    "                'to_poi_fraction','from_poi_fraction'] \n",
    "\n",
    "support=clf.named_steps['selection'].get_support()\n",
    "features_list=list(np.array(full_features_list[1:])[support])\n",
    "features_list=['poi']+features_list\n",
    "\n",
    "dump_classifier_and_data(clf, my_dataset, features_list)"
   ]
  },
  {
   "cell_type": "code",
   "execution_count": 69,
   "metadata": {
    "collapsed": false
   },
   "outputs": [],
   "source": [
    "### Features importances\n",
    "scores=clf.named_steps['classification'].feature_importances_"
   ]
  },
  {
   "cell_type": "code",
   "execution_count": 70,
   "metadata": {
    "collapsed": false
   },
   "outputs": [
    {
     "data": {
      "text/plain": [
       "<matplotlib.axes._subplots.AxesSubplot at 0x10bb0afd0>"
      ]
     },
     "execution_count": 70,
     "metadata": {},
     "output_type": "execute_result"
    },
    {
     "data": {
      "image/png": "[encoded data removed]",
      "text/plain": [
       "<matplotlib.figure.Figure at 0x10b9cd510>"
      ]
     },
     "metadata": {},
     "output_type": "display_data"
    }
   ],
   "source": [
    "scores_dict={}\n",
    "for i in range (0, len(scores)):\n",
    "    feature_name=features_list[i+1]\n",
    "    score=scores[i]\n",
    "    scores_dict[feature_name]=score\n",
    "scores_df=pd.DataFrame.from_dict(scores_dict, orient='index')\n",
    "scores_df.columns=['Score']\n",
    "scores_df.sort_values(['Score'], ascending=False).plot(kind='bar')"
   ]
  },
  {
   "cell_type": "code",
   "execution_count": null,
   "metadata": {
    "collapsed": true
   },
   "outputs": [],
   "source": []
  }
 ],
 "metadata": {
  "anaconda-cloud": {},
  "kernelspec": {
   "display_name": "Python 2",
   "language": "python",
   "name": "python2"
  },
  "language_info": {
   "codemirror_mode": {
    "name": "ipython",
    "version": 2
   },
   "file_extension": ".py",
   "mimetype": "text/x-python",
   "name": "python",
   "nbconvert_exporter": "python",
   "pygments_lexer": "ipython2",
   "version": "2.7.13"
  }
 },
 "nbformat": 4,
 "nbformat_minor": 2
}
