{
 "cells": [
  {
   "cell_type": "markdown",
   "metadata": {},
   "source": [
    "# Enron Dataset Analysis\n",
    "## Udacity P5 Final Project \n",
    "\n",
    "### Jianru Shi\n",
    "\n",
    "\n",
    "\n"
   ]
  },
  {
   "cell_type": "code",
   "execution_count": 1,
   "metadata": {
    "collapsed": false
   },
   "outputs": [
    {
     "name": "stderr",
     "output_type": "stream",
     "text": [
      "/Users/ruru/anaconda/envs/myenv/lib/python2.7/site-packages/sklearn/cross_validation.py:44: DeprecationWarning: This module was deprecated in version 0.18 in favor of the model_selection module into which all the refactored classes and functions are moved. Also note that the interface of the new CV iterators are different from that of this module. This module will be removed in 0.20.\n",
      "  \"This module will be removed in 0.20.\", DeprecationWarning)\n",
      "/Users/ruru/anaconda/envs/myenv/lib/python2.7/site-packages/sklearn/grid_search.py:43: DeprecationWarning: This module was deprecated in version 0.18 in favor of the model_selection module into which all the refactored classes and functions are moved. This module will be removed in 0.20.\n",
      "  DeprecationWarning)\n"
     ]
    }
   ],
   "source": [
    "#!/usr/bin/python\n",
    "\n",
    "import sys\n",
    "sys.path.append('../tools')\n",
    "import pickle\n",
    "from sklearn import preprocessing\n",
    "from scipy.stats.mstats import normaltest\n",
    "from feature_format import featureFormat, targetFeatureSplit\n",
    "from tester import dump_classifier_and_data\n",
    "from sklearn.pipeline import Pipeline\n",
    "import pandas as pd \n",
    "import numpy as np \n",
    "import matplotlib.pyplot as plt\n",
    "%matplotlib inline\n",
    "from tester import *\n",
    "from select_models import *"
   ]
  },
  {
   "cell_type": "code",
   "execution_count": 2,
   "metadata": {
    "collapsed": false
   },
   "outputs": [],
   "source": [
    "### Task 1: Select what features you'll use.\n",
    "### features_list is a list of strings, each of which is a feature name.\n",
    "### The first feature must be \"poi\".\n",
    "features_list_original = ['poi','salary', 'deferral_payments',\\\n",
    "                 'total_payments', 'loan_advances', 'bonus',\\\n",
    "                 'restricted_stock_deferred', 'deferred_income',\\\n",
    "                 'total_stock_value', 'expenses', 'exercised_stock_options',\\\n",
    "                 'other', 'long_term_incentive', 'restricted_stock', 'director_fees',\\\n",
    "                'to_messages', 'from_poi_to_this_person', 'email_address'\\\n",
    "                 'from_messages', 'from_this_person_to_poi', 'shared_receipt_with_poi'] # You will need to use more features\n",
    "\n",
    "### Load the dictionary containing the dataset\n",
    "with open(\"final_project_dataset.pkl\", \"r\") as data_file:\n",
    "    data_dict = pickle.load(data_file)\n",
    "    \n"
   ]
  },
  {
   "cell_type": "code",
   "execution_count": 3,
   "metadata": {
    "collapsed": false
   },
   "outputs": [
    {
     "name": "stdout",
     "output_type": "stream",
     "text": [
      "The number of observations: 146 \n",
      "The number of features: 20\n"
     ]
    }
   ],
   "source": [
    "print 'The number of observations:',len(data_dict), '\\n' \\\n",
    "'The number of features:',  len(features_list_original)"
   ]
  },
  {
   "cell_type": "code",
   "execution_count": 4,
   "metadata": {
    "collapsed": false
   },
   "outputs": [],
   "source": [
    "# convert the dictionary to pandas dataframe for data wrangling and cleaning\n",
    "\n",
    "data_df=pd.DataFrame.from_dict(data_dict,orient='index', dtype='float')\n",
    "data_df[['poi']]=data_df[['poi']].astype('bool')\n",
    "data_df=data_df.replace('NaN', np.nan) "
   ]
  },
  {
   "cell_type": "code",
   "execution_count": 5,
   "metadata": {
    "collapsed": false
   },
   "outputs": [],
   "source": [
    "# remove the email_address feature\n",
    "data_df.drop(['email_address'], 1, inplace=True)"
   ]
  },
  {
   "cell_type": "code",
   "execution_count": 6,
   "metadata": {
    "collapsed": false
   },
   "outputs": [
    {
     "name": "stdout",
     "output_type": "stream",
     "text": [
      "Top 10 features have most missing values:\n"
     ]
    },
    {
     "data": {
      "text/plain": [
       "loan_advances                142\n",
       "director_fees                129\n",
       "restricted_stock_deferred    128\n",
       "deferral_payments            107\n",
       "deferred_income               97\n",
       "long_term_incentive           80\n",
       "bonus                         64\n",
       "from_poi_to_this_person       60\n",
       "to_messages                   60\n",
       "from_this_person_to_poi       60\n",
       "dtype: int64"
      ]
     },
     "execution_count": 6,
     "metadata": {},
     "output_type": "execute_result"
    }
   ],
   "source": [
    "# missing values - features\n",
    "\n",
    "print 'Top 10 features have most missing values:'\n",
    "data_df.isnull().sum(axis=0).sort_values(ascending = False)[0:10]"
   ]
  },
  {
   "cell_type": "code",
   "execution_count": 7,
   "metadata": {
    "collapsed": false
   },
   "outputs": [
    {
     "name": "stdout",
     "output_type": "stream",
     "text": [
      "Top 10 observations have most missing values:\n"
     ]
    },
    {
     "data": {
      "text/plain": [
       "LOCKHART EUGENE E                19\n",
       "GRAMM WENDY L                    17\n",
       "WROBEL BRUCE                     17\n",
       "WODRASKA JOHN                    17\n",
       "THE TRAVEL AGENCY IN THE PARK    17\n",
       "WHALEY DAVID A                   17\n",
       "SCRIMSHAW MATTHEW                17\n",
       "CHRISTODOULOU DIOMEDES           16\n",
       "CLINE KENNETH W                  16\n",
       "GILLIS JOHN                      16\n",
       "dtype: int64"
      ]
     },
     "execution_count": 7,
     "metadata": {},
     "output_type": "execute_result"
    }
   ],
   "source": [
    "# missing values - observations\n",
    "print 'Top 10 observations have most missing values:'\n",
    "data_df.isnull().sum(axis=1).sort_values(ascending = False)[0:10]"
   ]
  },
  {
   "cell_type": "code",
   "execution_count": 8,
   "metadata": {
    "collapsed": false
   },
   "outputs": [
    {
     "name": "stdout",
     "output_type": "stream",
     "text": [
      "labels frequency:\n"
     ]
    },
    {
     "data": {
      "text/plain": [
       "False    128\n",
       "True      18\n",
       "Name: poi, dtype: int64"
      ]
     },
     "execution_count": 8,
     "metadata": {},
     "output_type": "execute_result"
    }
   ],
   "source": [
    "# count labels frequency\n",
    "print 'labels frequency:'\n",
    "data_df['poi'].value_counts()"
   ]
  },
  {
   "cell_type": "code",
   "execution_count": 9,
   "metadata": {
    "collapsed": false
   },
   "outputs": [
    {
     "data": {
      "text/plain": [
       "<matplotlib.axes._subplots.AxesSubplot at 0x10a4d92d0>"
      ]
     },
     "execution_count": 9,
     "metadata": {},
     "output_type": "execute_result"
    },
    {
     "data": {
      "image/png": "[encoded data removed]",
      "text/plain": [
       "<matplotlib.figure.Figure at 0x10fb5c590>"
      ]
     },
     "metadata": {},
     "output_type": "display_data"
    }
   ],
   "source": [
    "### Task 2: Remove outliers\n",
    "\n",
    "## Visualize outliers in box-plot\n",
    "data_df[['salary', 'deferral_payments','total_payments',\\\n",
    "         'bonus','total_stock_value', 'exercised_stock_options',\\\n",
    "        'long_term_incentive', 'restricted_stock', 'director_fees',]].plot.box()\n"
   ]
  },
  {
   "cell_type": "code",
   "execution_count": 10,
   "metadata": {
    "collapsed": false
   },
   "outputs": [
    {
     "name": "stdout",
     "output_type": "stream",
     "text": [
      "Detect outliers...\n"
     ]
    },
    {
     "data": {
      "text/html": [
       "<div>\n",
       "<style>\n",
       "    .dataframe thead tr:only-child th {\n",
       "        text-align: right;\n",
       "    }\n",
       "\n",
       "    .dataframe thead th {\n",
       "        text-align: left;\n",
       "    }\n",
       "\n",
       "    .dataframe tbody tr th {\n",
       "        vertical-align: top;\n",
       "    }\n",
       "</style>\n",
       "<table border=\"1\" class=\"dataframe\">\n",
       "  <thead>\n",
       "    <tr style=\"text-align: right;\">\n",
       "      <th></th>\n",
       "      <th>total_stock_value</th>\n",
       "      <th>total_payments</th>\n",
       "      <th>restricted_stock</th>\n",
       "    </tr>\n",
       "  </thead>\n",
       "  <tbody>\n",
       "    <tr>\n",
       "      <th>count</th>\n",
       "      <td>1.260000e+02</td>\n",
       "      <td>1.250000e+02</td>\n",
       "      <td>1.100000e+02</td>\n",
       "    </tr>\n",
       "    <tr>\n",
       "      <th>mean</th>\n",
       "      <td>6.773957e+06</td>\n",
       "      <td>5.081526e+06</td>\n",
       "      <td>2.321741e+06</td>\n",
       "    </tr>\n",
       "    <tr>\n",
       "      <th>std</th>\n",
       "      <td>3.895777e+07</td>\n",
       "      <td>2.906172e+07</td>\n",
       "      <td>1.251828e+07</td>\n",
       "    </tr>\n",
       "    <tr>\n",
       "      <th>min</th>\n",
       "      <td>-4.409300e+04</td>\n",
       "      <td>1.480000e+02</td>\n",
       "      <td>-2.604490e+06</td>\n",
       "    </tr>\n",
       "    <tr>\n",
       "      <th>25%</th>\n",
       "      <td>4.945102e+05</td>\n",
       "      <td>3.944750e+05</td>\n",
       "      <td>2.540180e+05</td>\n",
       "    </tr>\n",
       "    <tr>\n",
       "      <th>50%</th>\n",
       "      <td>1.102872e+06</td>\n",
       "      <td>1.101393e+06</td>\n",
       "      <td>4.517400e+05</td>\n",
       "    </tr>\n",
       "    <tr>\n",
       "      <th>75%</th>\n",
       "      <td>2.949847e+06</td>\n",
       "      <td>2.093263e+06</td>\n",
       "      <td>1.002370e+06</td>\n",
       "    </tr>\n",
       "    <tr>\n",
       "      <th>max</th>\n",
       "      <td>4.345095e+08</td>\n",
       "      <td>3.098866e+08</td>\n",
       "      <td>1.303223e+08</td>\n",
       "    </tr>\n",
       "  </tbody>\n",
       "</table>\n",
       "</div>"
      ],
      "text/plain": [
       "       total_stock_value  total_payments  restricted_stock\n",
       "count       1.260000e+02    1.250000e+02      1.100000e+02\n",
       "mean        6.773957e+06    5.081526e+06      2.321741e+06\n",
       "std         3.895777e+07    2.906172e+07      1.251828e+07\n",
       "min        -4.409300e+04    1.480000e+02     -2.604490e+06\n",
       "25%         4.945102e+05    3.944750e+05      2.540180e+05\n",
       "50%         1.102872e+06    1.101393e+06      4.517400e+05\n",
       "75%         2.949847e+06    2.093263e+06      1.002370e+06\n",
       "max         4.345095e+08    3.098866e+08      1.303223e+08"
      ]
     },
     "execution_count": 10,
     "metadata": {},
     "output_type": "execute_result"
    }
   ],
   "source": [
    "## identify observations that contains outlier \n",
    "print 'Detect outliers...'\n",
    "data_df[['total_stock_value', 'total_payments', 'restricted_stock']].describe()"
   ]
  },
  {
   "cell_type": "code",
   "execution_count": 11,
   "metadata": {
    "collapsed": false
   },
   "outputs": [
    {
     "data": {
      "text/html": [
       "<div>\n",
       "<style>\n",
       "    .dataframe thead tr:only-child th {\n",
       "        text-align: right;\n",
       "    }\n",
       "\n",
       "    .dataframe thead th {\n",
       "        text-align: left;\n",
       "    }\n",
       "\n",
       "    .dataframe tbody tr th {\n",
       "        vertical-align: top;\n",
       "    }\n",
       "</style>\n",
       "<table border=\"1\" class=\"dataframe\">\n",
       "  <thead>\n",
       "    <tr style=\"text-align: right;\">\n",
       "      <th></th>\n",
       "      <th>salary</th>\n",
       "      <th>to_messages</th>\n",
       "      <th>deferral_payments</th>\n",
       "      <th>total_payments</th>\n",
       "      <th>exercised_stock_options</th>\n",
       "      <th>bonus</th>\n",
       "      <th>restricted_stock</th>\n",
       "      <th>shared_receipt_with_poi</th>\n",
       "      <th>restricted_stock_deferred</th>\n",
       "      <th>total_stock_value</th>\n",
       "      <th>expenses</th>\n",
       "      <th>loan_advances</th>\n",
       "      <th>from_messages</th>\n",
       "      <th>other</th>\n",
       "      <th>from_this_person_to_poi</th>\n",
       "      <th>poi</th>\n",
       "      <th>director_fees</th>\n",
       "      <th>deferred_income</th>\n",
       "      <th>long_term_incentive</th>\n",
       "      <th>from_poi_to_this_person</th>\n",
       "    </tr>\n",
       "  </thead>\n",
       "  <tbody>\n",
       "    <tr>\n",
       "      <th>TOTAL</th>\n",
       "      <td>26704229.0</td>\n",
       "      <td>NaN</td>\n",
       "      <td>32083396.0</td>\n",
       "      <td>309886585.0</td>\n",
       "      <td>311764000.0</td>\n",
       "      <td>97343619.0</td>\n",
       "      <td>130322299.0</td>\n",
       "      <td>NaN</td>\n",
       "      <td>-7576788.0</td>\n",
       "      <td>434509511.0</td>\n",
       "      <td>5235198.0</td>\n",
       "      <td>83925000.0</td>\n",
       "      <td>NaN</td>\n",
       "      <td>42667589.0</td>\n",
       "      <td>NaN</td>\n",
       "      <td>False</td>\n",
       "      <td>1398517.0</td>\n",
       "      <td>-27992891.0</td>\n",
       "      <td>48521928.0</td>\n",
       "      <td>NaN</td>\n",
       "    </tr>\n",
       "  </tbody>\n",
       "</table>\n",
       "</div>"
      ],
      "text/plain": [
       "           salary  to_messages  deferral_payments  total_payments  \\\n",
       "TOTAL  26704229.0          NaN         32083396.0     309886585.0   \n",
       "\n",
       "       exercised_stock_options       bonus  restricted_stock  \\\n",
       "TOTAL              311764000.0  97343619.0       130322299.0   \n",
       "\n",
       "       shared_receipt_with_poi  restricted_stock_deferred  total_stock_value  \\\n",
       "TOTAL                      NaN                 -7576788.0        434509511.0   \n",
       "\n",
       "        expenses  loan_advances  from_messages       other  \\\n",
       "TOTAL  5235198.0     83925000.0            NaN  42667589.0   \n",
       "\n",
       "       from_this_person_to_poi    poi  director_fees  deferred_income  \\\n",
       "TOTAL                      NaN  False      1398517.0      -27992891.0   \n",
       "\n",
       "       long_term_incentive  from_poi_to_this_person  \n",
       "TOTAL           48521928.0                      NaN  "
      ]
     },
     "execution_count": 11,
     "metadata": {},
     "output_type": "execute_result"
    }
   ],
   "source": [
    "### Check obvious outlier in 'total_stock_values'\n",
    "### Found observation named 'TOTAL' \n",
    "\n",
    "data_df[data_df['total_stock_value']>200000000]"
   ]
  },
  {
   "cell_type": "code",
   "execution_count": 12,
   "metadata": {
    "collapsed": false
   },
   "outputs": [
    {
     "data": {
      "text/html": [
       "<div>\n",
       "<style>\n",
       "    .dataframe thead tr:only-child th {\n",
       "        text-align: right;\n",
       "    }\n",
       "\n",
       "    .dataframe thead th {\n",
       "        text-align: left;\n",
       "    }\n",
       "\n",
       "    .dataframe tbody tr th {\n",
       "        vertical-align: top;\n",
       "    }\n",
       "</style>\n",
       "<table border=\"1\" class=\"dataframe\">\n",
       "  <thead>\n",
       "    <tr style=\"text-align: right;\">\n",
       "      <th></th>\n",
       "      <th>salary</th>\n",
       "      <th>to_messages</th>\n",
       "      <th>deferral_payments</th>\n",
       "      <th>total_payments</th>\n",
       "      <th>exercised_stock_options</th>\n",
       "      <th>bonus</th>\n",
       "      <th>restricted_stock</th>\n",
       "      <th>shared_receipt_with_poi</th>\n",
       "      <th>restricted_stock_deferred</th>\n",
       "      <th>total_stock_value</th>\n",
       "      <th>expenses</th>\n",
       "      <th>loan_advances</th>\n",
       "      <th>from_messages</th>\n",
       "      <th>other</th>\n",
       "      <th>from_this_person_to_poi</th>\n",
       "      <th>poi</th>\n",
       "      <th>director_fees</th>\n",
       "      <th>deferred_income</th>\n",
       "      <th>long_term_incentive</th>\n",
       "      <th>from_poi_to_this_person</th>\n",
       "    </tr>\n",
       "  </thead>\n",
       "  <tbody>\n",
       "    <tr>\n",
       "      <th>BELFER ROBERT</th>\n",
       "      <td>NaN</td>\n",
       "      <td>NaN</td>\n",
       "      <td>-102500.0</td>\n",
       "      <td>102500.0</td>\n",
       "      <td>3285.0</td>\n",
       "      <td>NaN</td>\n",
       "      <td>NaN</td>\n",
       "      <td>NaN</td>\n",
       "      <td>44093.0</td>\n",
       "      <td>-44093.0</td>\n",
       "      <td>NaN</td>\n",
       "      <td>NaN</td>\n",
       "      <td>NaN</td>\n",
       "      <td>NaN</td>\n",
       "      <td>NaN</td>\n",
       "      <td>False</td>\n",
       "      <td>3285.0</td>\n",
       "      <td>NaN</td>\n",
       "      <td>NaN</td>\n",
       "      <td>NaN</td>\n",
       "    </tr>\n",
       "  </tbody>\n",
       "</table>\n",
       "</div>"
      ],
      "text/plain": [
       "               salary  to_messages  deferral_payments  total_payments  \\\n",
       "BELFER ROBERT     NaN          NaN          -102500.0        102500.0   \n",
       "\n",
       "               exercised_stock_options  bonus  restricted_stock  \\\n",
       "BELFER ROBERT                   3285.0    NaN               NaN   \n",
       "\n",
       "               shared_receipt_with_poi  restricted_stock_deferred  \\\n",
       "BELFER ROBERT                      NaN                    44093.0   \n",
       "\n",
       "               total_stock_value  expenses  loan_advances  from_messages  \\\n",
       "BELFER ROBERT           -44093.0       NaN            NaN            NaN   \n",
       "\n",
       "               other  from_this_person_to_poi    poi  director_fees  \\\n",
       "BELFER ROBERT    NaN                      NaN  False         3285.0   \n",
       "\n",
       "               deferred_income  long_term_incentive  from_poi_to_this_person  \n",
       "BELFER ROBERT              NaN                  NaN                      NaN  "
      ]
     },
     "execution_count": 12,
     "metadata": {},
     "output_type": "execute_result"
    }
   ],
   "source": [
    "# Check the abnormal observations has negative total stock value\n",
    "data_df[data_df['total_stock_value']<0]"
   ]
  },
  {
   "cell_type": "code",
   "execution_count": 13,
   "metadata": {
    "collapsed": false
   },
   "outputs": [
    {
     "data": {
      "text/html": [
       "<div>\n",
       "<style>\n",
       "    .dataframe thead tr:only-child th {\n",
       "        text-align: right;\n",
       "    }\n",
       "\n",
       "    .dataframe thead th {\n",
       "        text-align: left;\n",
       "    }\n",
       "\n",
       "    .dataframe tbody tr th {\n",
       "        vertical-align: top;\n",
       "    }\n",
       "</style>\n",
       "<table border=\"1\" class=\"dataframe\">\n",
       "  <thead>\n",
       "    <tr style=\"text-align: right;\">\n",
       "      <th></th>\n",
       "      <th>salary</th>\n",
       "      <th>to_messages</th>\n",
       "      <th>deferral_payments</th>\n",
       "      <th>total_payments</th>\n",
       "      <th>exercised_stock_options</th>\n",
       "      <th>bonus</th>\n",
       "      <th>restricted_stock</th>\n",
       "      <th>shared_receipt_with_poi</th>\n",
       "      <th>restricted_stock_deferred</th>\n",
       "      <th>total_stock_value</th>\n",
       "      <th>expenses</th>\n",
       "      <th>loan_advances</th>\n",
       "      <th>from_messages</th>\n",
       "      <th>other</th>\n",
       "      <th>from_this_person_to_poi</th>\n",
       "      <th>poi</th>\n",
       "      <th>director_fees</th>\n",
       "      <th>deferred_income</th>\n",
       "      <th>long_term_incentive</th>\n",
       "      <th>from_poi_to_this_person</th>\n",
       "    </tr>\n",
       "  </thead>\n",
       "  <tbody>\n",
       "    <tr>\n",
       "      <th>BHATNAGAR SANJAY</th>\n",
       "      <td>NaN</td>\n",
       "      <td>523.0</td>\n",
       "      <td>NaN</td>\n",
       "      <td>15456290.0</td>\n",
       "      <td>2604490.0</td>\n",
       "      <td>NaN</td>\n",
       "      <td>-2604490.0</td>\n",
       "      <td>463.0</td>\n",
       "      <td>15456290.0</td>\n",
       "      <td>NaN</td>\n",
       "      <td>NaN</td>\n",
       "      <td>NaN</td>\n",
       "      <td>29.0</td>\n",
       "      <td>137864.0</td>\n",
       "      <td>1.0</td>\n",
       "      <td>False</td>\n",
       "      <td>137864.0</td>\n",
       "      <td>NaN</td>\n",
       "      <td>NaN</td>\n",
       "      <td>0.0</td>\n",
       "    </tr>\n",
       "  </tbody>\n",
       "</table>\n",
       "</div>"
      ],
      "text/plain": [
       "                  salary  to_messages  deferral_payments  total_payments  \\\n",
       "BHATNAGAR SANJAY     NaN        523.0                NaN      15456290.0   \n",
       "\n",
       "                  exercised_stock_options  bonus  restricted_stock  \\\n",
       "BHATNAGAR SANJAY                2604490.0    NaN        -2604490.0   \n",
       "\n",
       "                  shared_receipt_with_poi  restricted_stock_deferred  \\\n",
       "BHATNAGAR SANJAY                    463.0                 15456290.0   \n",
       "\n",
       "                  total_stock_value  expenses  loan_advances  from_messages  \\\n",
       "BHATNAGAR SANJAY                NaN       NaN            NaN           29.0   \n",
       "\n",
       "                     other  from_this_person_to_poi    poi  director_fees  \\\n",
       "BHATNAGAR SANJAY  137864.0                      1.0  False       137864.0   \n",
       "\n",
       "                  deferred_income  long_term_incentive  \\\n",
       "BHATNAGAR SANJAY              NaN                  NaN   \n",
       "\n",
       "                  from_poi_to_this_person  \n",
       "BHATNAGAR SANJAY                      0.0  "
      ]
     },
     "execution_count": 13,
     "metadata": {},
     "output_type": "execute_result"
    }
   ],
   "source": [
    "# Check the abnormal observations has negative restricted_stock\n",
    "data_df[data_df['restricted_stock']<0]"
   ]
  },
  {
   "cell_type": "code",
   "execution_count": 14,
   "metadata": {
    "collapsed": false
   },
   "outputs": [
    {
     "name": "stdout",
     "output_type": "stream",
     "text": [
      "Data Cleaning...\n"
     ]
    }
   ],
   "source": [
    "### Data Cleaning \n",
    "\n",
    "print 'Data Cleaning...'\n",
    "### Remove the row with errors\n",
    "data_df.drop(['TOTAL','BELFER ROBERT','BHATNAGAR SANJAY',\\\n",
    "              'THE TRAVEL AGENCY IN THE PARK', 'LOCKHART EUGENE E'], inplace=True)\n"
   ]
  },
  {
   "cell_type": "code",
   "execution_count": 15,
   "metadata": {
    "collapsed": true
   },
   "outputs": [],
   "source": [
    "### Fill missing value with 0\n",
    "data_df=data_df.fillna(0)"
   ]
  },
  {
   "cell_type": "code",
   "execution_count": 16,
   "metadata": {
    "collapsed": false
   },
   "outputs": [
    {
     "name": "stdout",
     "output_type": "stream",
     "text": [
      "Creating new features...\n"
     ]
    }
   ],
   "source": [
    "### Task 3: Create new feature(s)\n",
    "\n",
    "print 'Creating new features...'\n",
    "data_df['to_poi_fraction']=data_df['from_this_person_to_poi']/data_df['from_messages']\n",
    "data_df['from_poi_fraction']=data_df['from_poi_to_this_person']/data_df['to_messages']\n",
    "data_df=data_df.fillna(0)\n"
   ]
  },
  {
   "cell_type": "code",
   "execution_count": 63,
   "metadata": {
    "collapsed": false
   },
   "outputs": [],
   "source": [
    "### update the features_list by adding two new features\n",
    "features_list_original = ['poi','salary', 'deferral_payments',\\\n",
    "                 'total_payments', 'loan_advances', 'bonus',\\\n",
    "                 'restricted_stock_deferred', 'deferred_income',\\\n",
    "                 'total_stock_value', 'expenses', 'exercised_stock_options',\\\n",
    "                 'other', 'long_term_incentive', 'restricted_stock', 'director_fees',\\\n",
    "                'to_messages', 'from_poi_to_this_person',\\\n",
    "                 'from_messages', 'from_this_person_to_poi', 'shared_receipt_with_poi']\n",
    "\n",
    "features_list_new = ['poi','salary', 'deferral_payments',\n",
    "                 'total_payments', 'loan_advances', 'bonus',\n",
    "                 'restricted_stock_deferred', 'deferred_income',\n",
    "                 'total_stock_value', 'expenses', 'exercised_stock_options',\n",
    "                 'other', 'long_term_incentive', 'restricted_stock', 'director_fees',\n",
    "                'to_messages', 'from_poi_to_this_person',\n",
    "                 'from_messages', 'from_this_person_to_poi', 'shared_receipt_with_poi',\n",
    "                'to_poi_fraction','from_poi_fraction'] "
   ]
  },
  {
   "cell_type": "code",
   "execution_count": 44,
   "metadata": {
    "collapsed": false
   },
   "outputs": [
    {
     "name": "stdout",
     "output_type": "stream",
     "text": [
      "Data formating for sk-learn...\n"
     ]
    }
   ],
   "source": [
    "print 'Data formating for sk-learn...'\n",
    "data_dict_original=data_df.iloc[:, 0:20].to_dict(orient='index')\n",
    "data_dict_new=data_df.to_dict(orient='index')"
   ]
  },
  {
   "cell_type": "code",
   "execution_count": 64,
   "metadata": {
    "collapsed": true
   },
   "outputs": [],
   "source": [
    "features_list=features_list_new\n",
    "#features_list=features_list_original"
   ]
  },
  {
   "cell_type": "code",
   "execution_count": 58,
   "metadata": {
    "collapsed": false
   },
   "outputs": [],
   "source": [
    "### Store to my_dataset for easy export below.\n",
    "\n",
    "my_dataset = data_dict_new\n",
    "\n",
    "### Uncomment to see the analysis using original dataset without\n",
    "### adding new features\n",
    "\n",
    "#my_dataset = data_dict_original\n",
    "\n",
    "\n",
    "### Extract features and labels from dataset for local testing\n",
    "data = featureFormat(my_dataset, features_list, sort_keys = True)\n",
    "labels, features = targetFeatureSplit(data)\n",
    "\n",
    "from sklearn.cross_validation import train_test_split\n",
    "features_train, features_test, labels_train, labels_test = \\\n",
    "    train_test_split(features, labels, test_size=0.3, random_state=42)"
   ]
  },
  {
   "cell_type": "code",
   "execution_count": 27,
   "metadata": {
    "collapsed": false
   },
   "outputs": [
    {
     "data": {
      "text/plain": [
       "<matplotlib.axes._subplots.AxesSubplot at 0x10ffc0110>"
      ]
     },
     "execution_count": 27,
     "metadata": {},
     "output_type": "execute_result"
    },
    {
     "data": {
      "image/png": "[encoded data removed]",
      "text/plain": [
       "<matplotlib.figure.Figure at 0x10ff94310>"
      ]
     },
     "metadata": {},
     "output_type": "display_data"
    }
   ],
   "source": [
    "from sklearn.feature_selection import SelectKBest\n",
    "from sklearn.feature_selection import f_classif\n",
    "selector=SelectKBest(f_classif, 'all')\n",
    "scores=selector.fit(features_train, labels_train).scores_\n",
    "\n",
    "scores_dict={}\n",
    "for i in range (0, len(scores)):\n",
    "    feature_name=features_list[i+1]\n",
    "    score=scores[i]\n",
    "    scores_dict[feature_name]=score\n",
    "scores_df=pd.DataFrame.from_dict(scores_dict, orient='index')\n",
    "scores_df.columns=['Score']\n",
    "scores_df.sort_values(['Score'], ascending=False).plot(kind='bar')"
   ]
  },
  {
   "cell_type": "code",
   "execution_count": 29,
   "metadata": {
    "collapsed": false
   },
   "outputs": [
    {
     "data": {
      "text/plain": [
       "<matplotlib.axes._subplots.AxesSubplot at 0x10fb68050>"
      ]
     },
     "execution_count": 29,
     "metadata": {},
     "output_type": "execute_result"
    },
    {
     "data": {
      "image/png": "[encoded data removed]",
      "text/plain": [
       "<matplotlib.figure.Figure at 0x10ff94850>"
      ]
     },
     "metadata": {},
     "output_type": "display_data"
    }
   ],
   "source": [
    "from sklearn.feature_selection import SelectKBest\n",
    "from sklearn.feature_selection import f_classif\n",
    "selector=SelectKBest(f_classif, 'all')\n",
    "scores=selector.fit(features_train, labels_train).scores_\n",
    "\n",
    "scores_dict={}\n",
    "for i in range (0, len(scores)):\n",
    "    feature_name=features_list[i+1]\n",
    "    score=scores[i]\n",
    "    scores_dict[feature_name]=score\n",
    "scores_df=pd.DataFrame.from_dict(scores_dict, orient='index')\n",
    "scores_df.columns=['Score']\n",
    "scores_df.sort_values(['Score'], ascending=False).plot(kind='bar')"
   ]
  },
  {
   "cell_type": "code",
   "execution_count": 20,
   "metadata": {
    "collapsed": false
   },
   "outputs": [],
   "source": [
    "### Task 4: Try a varity of classifiers\n",
    "### Please name your classifier clf for easy export below.\n",
    "### Note that if you want to do PCA or other multi-stage operations,\n",
    "### you'll need to use Pipelines. For more info:\n",
    "### http://scikit-learn.org/stable/modules/pipeline.html\n",
    "\n",
    "# Provided to give you a starting point. Try a variety of classifiers."
   ]
  },
  {
   "cell_type": "code",
   "execution_count": null,
   "metadata": {
    "collapsed": false
   },
   "outputs": [],
   "source": []
  },
  {
   "cell_type": "code",
   "execution_count": 46,
   "metadata": {
    "collapsed": false
   },
   "outputs": [
    {
     "name": "stdout",
     "output_type": "stream",
     "text": [
      "Gaussian Naive Bayes Classifier...grid searching...\n",
      "The f1 score from Naive Bayes model is: 0.248299319728\n"
     ]
    },
    {
     "data": {
      "text/html": [
       "<div>\n",
       "<style>\n",
       "    .dataframe thead tr:only-child th {\n",
       "        text-align: right;\n",
       "    }\n",
       "\n",
       "    .dataframe thead th {\n",
       "        text-align: left;\n",
       "    }\n",
       "\n",
       "    .dataframe tbody tr th {\n",
       "        vertical-align: top;\n",
       "    }\n",
       "</style>\n",
       "<table border=\"1\" class=\"dataframe\">\n",
       "  <thead>\n",
       "    <tr style=\"text-align: right;\">\n",
       "      <th></th>\n",
       "      <th>0</th>\n",
       "    </tr>\n",
       "  </thead>\n",
       "  <tbody>\n",
       "    <tr>\n",
       "      <th>selection__k</th>\n",
       "      <td>13</td>\n",
       "    </tr>\n",
       "  </tbody>\n",
       "</table>\n",
       "</div>"
      ],
      "text/plain": [
       "               0\n",
       "selection__k  13"
      ]
     },
     "execution_count": 46,
     "metadata": {},
     "output_type": "execute_result"
    }
   ],
   "source": [
    "### Classifier_1 Gaussian Naive Bayes\n",
    "print 'Gaussian Naive Bayes Classifier...grid searching...'\n",
    "\n",
    "from sklearn.naive_bayes import GaussianNB\n",
    "from sklearn.feature_selection import SelectKBest\n",
    "from sklearn.feature_selection import f_classif\n",
    "from sklearn.model_selection import GridSearchCV\n",
    "\n",
    "clf=NB_pipeline()\n",
    "Params=NB_Params() \n",
    "grid_searcher = GridSearchCV(clf, param_grid=Params, cv=10, scoring='f1')\n",
    "grid_searcher.fit(features_train, labels_train)\n",
    "\n",
    "print 'The f1 score from Naive Bayes model is:', grid_searcher.best_score_\n",
    "result_df=pd.DataFrame.from_dict(grid_searcher.cv_results_)\n",
    "pd.DataFrame.from_dict(grid_searcher.best_params_, orient='index') \n"
   ]
  },
  {
   "cell_type": "code",
   "execution_count": 47,
   "metadata": {
    "collapsed": false
   },
   "outputs": [],
   "source": [
    "### Final Naive Bayes Classifier\n",
    "NB_clf=Pipeline([\n",
    "    ('selection', SelectKBest(f_classif, k=13)),\n",
    "    ('classification', GaussianNB())\n",
    "])"
   ]
  },
  {
   "cell_type": "code",
   "execution_count": 48,
   "metadata": {
    "collapsed": false
   },
   "outputs": [
    {
     "name": "stdout",
     "output_type": "stream",
     "text": [
      "Decision Tree Classifier...grid searching...\n",
      "The f1 score from Decision Tree model is: 0.39693877551\n"
     ]
    },
    {
     "data": {
      "text/html": [
       "<div>\n",
       "<style>\n",
       "    .dataframe thead tr:only-child th {\n",
       "        text-align: right;\n",
       "    }\n",
       "\n",
       "    .dataframe thead th {\n",
       "        text-align: left;\n",
       "    }\n",
       "\n",
       "    .dataframe tbody tr th {\n",
       "        vertical-align: top;\n",
       "    }\n",
       "</style>\n",
       "<table border=\"1\" class=\"dataframe\">\n",
       "  <thead>\n",
       "    <tr style=\"text-align: right;\">\n",
       "      <th></th>\n",
       "      <th>0</th>\n",
       "    </tr>\n",
       "  </thead>\n",
       "  <tbody>\n",
       "    <tr>\n",
       "      <th>classification__max_features</th>\n",
       "      <td>log2</td>\n",
       "    </tr>\n",
       "    <tr>\n",
       "      <th>selection__k</th>\n",
       "      <td>9</td>\n",
       "    </tr>\n",
       "    <tr>\n",
       "      <th>classification__min_samples_split</th>\n",
       "      <td>6</td>\n",
       "    </tr>\n",
       "    <tr>\n",
       "      <th>classification__criterion</th>\n",
       "      <td>entropy</td>\n",
       "    </tr>\n",
       "  </tbody>\n",
       "</table>\n",
       "</div>"
      ],
      "text/plain": [
       "                                         0\n",
       "classification__max_features          log2\n",
       "selection__k                             9\n",
       "classification__min_samples_split        6\n",
       "classification__criterion          entropy"
      ]
     },
     "execution_count": 48,
     "metadata": {},
     "output_type": "execute_result"
    }
   ],
   "source": [
    "### Classifier_2 Decision Tree\n",
    "print 'Decision Tree Classifier...grid searching...'\n",
    "from sklearn import tree\n",
    "from sklearn.model_selection import GridSearchCV\n",
    "\n",
    "\n",
    "clf=Tree_pipeline()\n",
    "Params=Tree_Params() \n",
    "grid_searcher = GridSearchCV(clf, param_grid=Params, cv=10, scoring='f1')\n",
    "grid_searcher.fit(features_train, labels_train)\n",
    "\n",
    "print 'The f1 score from Decision Tree model is:', grid_searcher.best_score_\n",
    "result_df=pd.DataFrame.from_dict(grid_searcher.cv_results_)\n",
    "pd.DataFrame.from_dict(grid_searcher.best_params_, orient='index') \n"
   ]
  },
  {
   "cell_type": "code",
   "execution_count": 50,
   "metadata": {
    "collapsed": false
   },
   "outputs": [],
   "source": [
    "### Final tree model (with new features)\n",
    "Tree_clf = Pipeline([\n",
    "  ('selection', SelectKBest(f_classif, k=9)),\n",
    "  ('classification', tree.DecisionTreeClassifier(criterion='entropy', min_samples_split=6, random_state=42, max_features='log2'))\n",
    "])\n"
   ]
  },
  {
   "cell_type": "code",
   "execution_count": null,
   "metadata": {
    "collapsed": true
   },
   "outputs": [],
   "source": []
  },
  {
   "cell_type": "code",
   "execution_count": 59,
   "metadata": {
    "collapsed": false
   },
   "outputs": [
    {
     "name": "stdout",
     "output_type": "stream",
     "text": [
      "SVC Classifier...grid searching...\n",
      "The f1 score for SVC classifier is: 0.215986394558\n"
     ]
    },
    {
     "data": {
      "text/html": [
       "<div>\n",
       "<style>\n",
       "    .dataframe thead tr:only-child th {\n",
       "        text-align: right;\n",
       "    }\n",
       "\n",
       "    .dataframe thead th {\n",
       "        text-align: left;\n",
       "    }\n",
       "\n",
       "    .dataframe tbody tr th {\n",
       "        vertical-align: top;\n",
       "    }\n",
       "</style>\n",
       "<table border=\"1\" class=\"dataframe\">\n",
       "  <thead>\n",
       "    <tr style=\"text-align: right;\">\n",
       "      <th></th>\n",
       "      <th>0</th>\n",
       "    </tr>\n",
       "  </thead>\n",
       "  <tbody>\n",
       "    <tr>\n",
       "      <th>classification__gamma</th>\n",
       "      <td>100</td>\n",
       "    </tr>\n",
       "    <tr>\n",
       "      <th>classification__kernel</th>\n",
       "      <td>poly</td>\n",
       "    </tr>\n",
       "    <tr>\n",
       "      <th>classification__C</th>\n",
       "      <td>0.1</td>\n",
       "    </tr>\n",
       "    <tr>\n",
       "      <th>selection__k</th>\n",
       "      <td>7</td>\n",
       "    </tr>\n",
       "  </tbody>\n",
       "</table>\n",
       "</div>"
      ],
      "text/plain": [
       "                           0\n",
       "classification__gamma    100\n",
       "classification__kernel  poly\n",
       "classification__C        0.1\n",
       "selection__k               7"
      ]
     },
     "execution_count": 59,
     "metadata": {},
     "output_type": "execute_result"
    }
   ],
   "source": [
    "### Classifier_3 SVC\n",
    "print 'SVC Classifier...grid searching...'\n",
    "from sklearn.svm import SVC\n",
    "from sklearn import preprocessing\n",
    "\n",
    "\n",
    "clf=SVC_pipeline()\n",
    "Params=SVC_Params()\n",
    "grid_searcher = GridSearchCV(clf, param_grid=Params, cv=10, scoring='f1')\n",
    "grid_searcher.fit(features_train, labels_train)\n",
    "\n",
    "print 'The f1 score for SVC classifier is:', grid_searcher.best_score_\n",
    "\n",
    "result_df=pd.DataFrame.from_dict(grid_searcher.cv_results_)\n",
    "pd.DataFrame.from_dict(grid_searcher.best_params_, orient='index') \n"
   ]
  },
  {
   "cell_type": "code",
   "execution_count": 60,
   "metadata": {
    "collapsed": false
   },
   "outputs": [],
   "source": [
    "### Final SVC model\n",
    "\n",
    "SVC_clf=Pipeline([\n",
    "    ('scaler', preprocessing.MinMaxScaler()),\n",
    "    ('selection', SelectKBest(f_classif, k=7)),\n",
    "    ('classification', SVC(kernel='poly', gamma=100, C=0.1, random_state=42) )\n",
    "])\n"
   ]
  },
  {
   "cell_type": "code",
   "execution_count": 37,
   "metadata": {
    "collapsed": true
   },
   "outputs": [],
   "source": [
    "### Task 5: Tune your classifier to achieve better than .3 precision and recall \n",
    "### using our testing script. Check the tester.py script in the final project\n",
    "### folder for details on the evaluation method, especially the test_classifier\n",
    "### function. Because of the small size of the dataset, the script uses\n",
    "### stratified shuffle split cross validation. For more info: \n",
    "### http://scikit-learn.org/stable/modules/generated/sklearn.cross_validation.StratifiedShuffleSplit.html\n"
   ]
  },
  {
   "cell_type": "code",
   "execution_count": 65,
   "metadata": {
    "collapsed": false
   },
   "outputs": [
    {
     "name": "stdout",
     "output_type": "stream",
     "text": [
      "models comparing...\n",
      "clf scores:\n"
     ]
    },
    {
     "data": {
      "text/html": [
       "<div>\n",
       "<style>\n",
       "    .dataframe thead tr:only-child th {\n",
       "        text-align: right;\n",
       "    }\n",
       "\n",
       "    .dataframe thead th {\n",
       "        text-align: left;\n",
       "    }\n",
       "\n",
       "    .dataframe tbody tr th {\n",
       "        vertical-align: top;\n",
       "    }\n",
       "</style>\n",
       "<table border=\"1\" class=\"dataframe\">\n",
       "  <thead>\n",
       "    <tr style=\"text-align: right;\">\n",
       "      <th></th>\n",
       "      <th>f1</th>\n",
       "      <th>Recall</th>\n",
       "      <th>f2</th>\n",
       "      <th>Precision</th>\n",
       "      <th>Accuracy</th>\n",
       "    </tr>\n",
       "  </thead>\n",
       "  <tbody>\n",
       "    <tr>\n",
       "      <th>Decision Tree</th>\n",
       "      <td>0.363636</td>\n",
       "      <td>0.50</td>\n",
       "      <td>0.434783</td>\n",
       "      <td>0.285714</td>\n",
       "      <td>0.837209</td>\n",
       "    </tr>\n",
       "    <tr>\n",
       "      <th>Gaussian Naive Bayes</th>\n",
       "      <td>0.444444</td>\n",
       "      <td>0.50</td>\n",
       "      <td>0.476190</td>\n",
       "      <td>0.400000</td>\n",
       "      <td>0.883721</td>\n",
       "    </tr>\n",
       "    <tr>\n",
       "      <th>SVC</th>\n",
       "      <td>0.250000</td>\n",
       "      <td>0.25</td>\n",
       "      <td>0.250000</td>\n",
       "      <td>0.250000</td>\n",
       "      <td>0.860465</td>\n",
       "    </tr>\n",
       "  </tbody>\n",
       "</table>\n",
       "</div>"
      ],
      "text/plain": [
       "                            f1  Recall        f2  Precision  Accuracy\n",
       "Decision Tree         0.363636    0.50  0.434783   0.285714  0.837209\n",
       "Gaussian Naive Bayes  0.444444    0.50  0.476190   0.400000  0.883721\n",
       "SVC                   0.250000    0.25  0.250000   0.250000  0.860465"
      ]
     },
     "execution_count": 65,
     "metadata": {},
     "output_type": "execute_result"
    }
   ],
   "source": [
    "### Compare three models\n",
    "print 'models comparing...'\n",
    "NB_clf.fit(features_train,labels_train)\n",
    "Tree_clf.fit(features_train,labels_train)\n",
    "SVC_clf.fit(features_train,labels_train)\n",
    "\n",
    "\n",
    "classifers_list=[NB_clf,Tree_clf,SVC_clf]\n",
    "classifer_name_list=['Gaussian Naive Bayes','Decision Tree', 'SVC']\n",
    "\n",
    "clf_scores={}\n",
    "for ii in range(0, len(classifers_list)):\n",
    "    classifier=classifers_list[ii]\n",
    "    classifer_name=classifer_name_list[ii]\n",
    "    pred=classifier.predict(features_test)\n",
    "    scores=accuracy_check(pred, labels_test)\n",
    "    scores_dict={'Accuracy': scores[0], 'Precision': scores[1],\\\n",
    "     'Recall':scores[2], 'f1':scores[3], 'f2':scores[4]}\n",
    "    clf_scores[classifer_name]=scores_dict\n",
    "print 'clf scores:'\n",
    "pd.DataFrame.from_dict(clf_scores, orient='index')\n",
    "\n"
   ]
  },
  {
   "cell_type": "code",
   "execution_count": 66,
   "metadata": {
    "collapsed": false
   },
   "outputs": [
    {
     "name": "stdout",
     "output_type": "stream",
     "text": [
      "Validataion...\n"
     ]
    }
   ],
   "source": [
    "\n",
    "### Task 6: Dump your classifier, dataset, and features_list so anyone can\n",
    "### check your results. You do not need to change anything below, but make sure\n",
    "### that the version of poi_id.py that you submit can be run on its own and\n",
    "### generates the necessary .pkl files for validating your results.\n",
    "\n",
    "\n",
    "print 'Validataion...'\n",
    "\n",
    "clf=Tree_clf\n",
    "###Uncomment to see results for other classifiers\n",
    "#clf=NB_clf\n",
    "#clf=SVC_clf\n",
    "\n",
    "support=clf.named_steps['selection'].get_support()\n",
    "features_list=list(np.array(features_list[1:])[support])\n",
    "features_list=['poi']+features_list\n",
    "\n",
    "dump_classifier_and_data(clf, my_dataset, features_list)"
   ]
  },
  {
   "cell_type": "code",
   "execution_count": 67,
   "metadata": {
    "collapsed": false
   },
   "outputs": [],
   "source": [
    "### Features importances\n",
    "scores=clf.named_steps['classification'].feature_importances_"
   ]
  },
  {
   "cell_type": "code",
   "execution_count": 68,
   "metadata": {
    "collapsed": false
   },
   "outputs": [
    {
     "data": {
      "text/plain": [
       "<matplotlib.axes._subplots.AxesSubplot at 0x110848090>"
      ]
     },
     "execution_count": 68,
     "metadata": {},
     "output_type": "execute_result"
    },
    {
     "data": {
      "image/png": "[encoded data removed]",
      "text/plain": [
       "<matplotlib.figure.Figure at 0x110848610>"
      ]
     },
     "metadata": {},
     "output_type": "display_data"
    }
   ],
   "source": [
    "scores_dict={}\n",
    "for i in range (0, len(scores)):\n",
    "    feature_name=features_list[i+1]\n",
    "    score=scores[i]\n",
    "    scores_dict[feature_name]=score\n",
    "scores_df=pd.DataFrame.from_dict(scores_dict, orient='index')\n",
    "scores_df.columns=['Score']\n",
    "scores_df.sort_values(['Score'], ascending=False).plot(kind='bar')"
   ]
  },
  {
   "cell_type": "code",
   "execution_count": 69,
   "metadata": {
    "collapsed": false
   },
   "outputs": [
    {
     "data": {
      "text/plain": [
       "['poi',\n",
       " 'salary',\n",
       " 'total_payments',\n",
       " 'bonus',\n",
       " 'deferred_income',\n",
       " 'total_stock_value',\n",
       " 'exercised_stock_options',\n",
       " 'long_term_incentive',\n",
       " 'shared_receipt_with_poi',\n",
       " 'to_poi_fraction']"
      ]
     },
     "execution_count": 69,
     "metadata": {},
     "output_type": "execute_result"
    }
   ],
   "source": [
    "print 'Final features list'\n",
    "features_list"
   ]
  },
  {
   "cell_type": "code",
   "execution_count": null,
   "metadata": {
    "collapsed": true
   },
   "outputs": [],
   "source": []
  }
 ],
 "metadata": {
  "anaconda-cloud": {},
  "kernelspec": {
   "display_name": "Python 2",
   "language": "python",
   "name": "python2"
  },
  "language_info": {
   "codemirror_mode": {
    "name": "ipython",
    "version": 2
   },
   "file_extension": ".py",
   "mimetype": "text/x-python",
   "name": "python",
   "nbconvert_exporter": "python",
   "pygments_lexer": "ipython2",
   "version": "2.7.13"
  }
 },
 "nbformat": 4,
 "nbformat_minor": 2
}
